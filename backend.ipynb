{
 "cells": [
  {
   "cell_type": "markdown",
   "id": "ae049146-e20f-407b-ae46-38bfebd77a60",
   "metadata": {},
   "source": [
    "## Backend\n",
    "\n",
    "This notebook acts as a backend for the project canvs2code, it uses `Flask` to create a server locally, which can interact with the frontend application using API.\n",
    "\n",
    "Currently, we have two endpoints listening on `port:5000`.\n",
    "- Home/Index page: `/`\n",
    "- This endpoint is responsible for image upload: `/api/v1/uplaod`\n"
   ]
  },
  {
   "cell_type": "code",
   "execution_count": 1,
   "id": "d0d6eb0a-185f-4cac-b302-c41f250652d1",
   "metadata": {},
   "outputs": [],
   "source": [
    "#import the dependencies\n",
    "from flask import Flask, request, jsonify\n",
    "import os"
   ]
  },
  {
   "cell_type": "code",
   "execution_count": 2,
   "id": "5fb1c52b-fd27-49fe-b5a7-84e0285d183c",
   "metadata": {},
   "outputs": [
    {
     "name": "stdout",
     "output_type": "stream",
     "text": [
      " * Serving Flask app '__main__'\n",
      " * Debug mode: off\n"
     ]
    },
    {
     "name": "stderr",
     "output_type": "stream",
     "text": [
      "WARNING: This is a development server. Do not use it in a production deployment. Use a production WSGI server instead.\n",
      " * Running on http://127.0.0.1:5000\n",
      "Press CTRL+C to quit\n",
      "127.0.0.1 - - [01/Jan/2024 21:02:03] \"POST /api/v1/upload HTTP/1.1\" 200 -\n"
     ]
    }
   ],
   "source": [
    "app = Flask(__name__)\n",
    "\n",
    "@app.route('/')\n",
    "def index_page():\n",
    "    return 'Canvas2Code Backend API'\n",
    "\n",
    "@app.route('/api/v1/upload', methods=['POST'])\n",
    "def uplaod_image():\n",
    "    # Check if the POST request has the file part\n",
    "    if 'file' not in request.files:\n",
    "        return jsonify({'error': 'No file part'})\n",
    "\n",
    "    file = request.files['file']\n",
    "\n",
    "    # If the user does not select a file, the browser sends an empty file without a filename\n",
    "    if file.filename == '':\n",
    "        return jsonify({'error': 'No selected file'})\n",
    "\n",
    "    # Perform your deep learning activities here with the 'file' object\n",
    "    # For simplicity, let's just return the filename for now\n",
    "    return jsonify({'filename': file.filename})\n",
    "\n",
    "if __name__ == '__main__':\n",
    "    app.run()"
   ]
  },
  {
   "cell_type": "code",
   "execution_count": null,
   "id": "8165d4ca-cd18-4e58-8106-8b4e8c91aca1",
   "metadata": {},
   "outputs": [],
   "source": []
  }
 ],
 "metadata": {
  "kernelspec": {
   "display_name": "Python 3 (ipykernel)",
   "language": "python",
   "name": "python3"
  },
  "language_info": {
   "codemirror_mode": {
    "name": "ipython",
    "version": 3
   },
   "file_extension": ".py",
   "mimetype": "text/x-python",
   "name": "python",
   "nbconvert_exporter": "python",
   "pygments_lexer": "ipython3",
   "version": "3.10.8"
  }
 },
 "nbformat": 4,
 "nbformat_minor": 5
}
